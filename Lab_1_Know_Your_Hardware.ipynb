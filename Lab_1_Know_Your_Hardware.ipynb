{
 "cells": [
  {
   "cell_type": "markdown",
   "id": "ab584e66-1ffd-4a41-9c4e-ac0d2aa19e16",
   "metadata": {},
   "source": [
    "## Lab 1 : Know your hardware"
   ]
  },
  {
   "cell_type": "markdown",
   "id": "ec6d87ed-ba4a-4c6d-a8c0-38d7fc52962b",
   "metadata": {},
   "source": [
    "This lab explores details of the Intel hardware on IDC used for this workshop."
   ]
  },
  {
   "cell_type": "markdown",
   "id": "5a8d3c7b-69b3-40ac-8aaa-3ec5a56d2754",
   "metadata": {},
   "source": [
    "### 1.1 The Host CPU"
   ]
  },
  {
   "cell_type": "markdown",
   "id": "b2c85ffd-a5c1-41f4-9254-e90f9361022e",
   "metadata": {},
   "source": [
    "We are using the 4th Gen Intel Xeon Processor (codenamed Saphhire Rapids) which has the latest [Intel AMX](https://www.intel.com/content/www/us/en/products/docs/accelerator-engines/advanced-matrix-extensions/overview.html) instructions for speeding up AI workloads.<br>\n",
    "Visit [ark.intel.com](https://ark.intel.com/content/www/us/en/ark.html) to know more about the CPU specification\n",
    "\n",
    "Run the below cell and take a look at the specifics of the host cpu. <br>Details of interest include CPU generation, number of cores and sockets, max cpu frequency, the various vectorization features like AVX, AMX, [NUMA topology](https://www.intel.com/content/www/us/en/products/docs/accelerator-engines/advanced-matrix-extensions/overview.html) etc."
   ]
  },
  {
   "cell_type": "code",
   "execution_count": null,
   "id": "3d2de413-fd02-47a3-9da5-191967f03366",
   "metadata": {},
   "outputs": [],
   "source": [
    "!lscpu"
   ]
  },
  {
   "cell_type": "markdown",
   "id": "63f11238-d50a-4ddb-ab97-226986327861",
   "metadata": {},
   "source": [
    "### 1.2 The GPU"
   ]
  },
  {
   "cell_type": "markdown",
   "id": "3d132830-88dd-46fa-ab49-d1f018fe355e",
   "metadata": {},
   "source": [
    "Each compute node is equipped with 4 Intel Max series GPU's.<br>\n",
    "Run the below cell and observe the GPU SKU. Try searching for this GPU at [ark.intel.com](https://ark.intel.com/content/www/us/en/ark.html)"
   ]
  },
  {
   "cell_type": "code",
   "execution_count": null,
   "id": "1e57a4f6-a11c-4fe5-a282-bb23604c0bc1",
   "metadata": {},
   "outputs": [],
   "source": [
    "!sycl-ls"
   ]
  },
  {
   "cell_type": "code",
   "execution_count": null,
   "id": "c9aa9f3f-5662-4f09-a1f0-e4ba89311013",
   "metadata": {},
   "outputs": [],
   "source": [
    "!xpu-smi "
   ]
  },
  {
   "cell_type": "code",
   "execution_count": null,
   "id": "0ea6e414-514b-4131-8ffc-1b8ec7875d29",
   "metadata": {},
   "outputs": [],
   "source": [
    "!xpu-smi discovery -d 0"
   ]
  },
  {
   "cell_type": "code",
   "execution_count": null,
   "id": "27b80c0a-6781-4512-8b3f-8316ccfc0d2e",
   "metadata": {},
   "outputs": [],
   "source": []
  }
 ],
 "metadata": {
  "kernelspec": {
   "display_name": "Python 3 (ipykernel)",
   "language": "python",
   "name": "python3"
  },
  "language_info": {
   "codemirror_mode": {
    "name": "ipython",
    "version": 3
   },
   "file_extension": ".py",
   "mimetype": "text/x-python",
   "name": "python",
   "nbconvert_exporter": "python",
   "pygments_lexer": "ipython3",
   "version": "3.11.5"
  }
 },
 "nbformat": 4,
 "nbformat_minor": 5
}
